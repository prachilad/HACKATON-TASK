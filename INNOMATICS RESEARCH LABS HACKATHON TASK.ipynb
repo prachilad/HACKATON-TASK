{
 "cells": [
  {
   "cell_type": "code",
   "execution_count": 46,
   "id": "6e11e7c8",
   "metadata": {},
   "outputs": [],
   "source": [
    "import pandas as pd\n",
    "from sklearn.model_selection import train_test_split\n",
    "import seaborn as sns\n",
    "import matplotlib.pyplot as plt\n",
    "from sklearn.linear_model import LogisticRegression\n",
    "from sklearn.tree import DecisionTreeClassifier\n",
    "from sklearn.neighbors import KNeighborsClassifier\n",
    "from sklearn import svm\n",
    "from sklearn.metrics import confusion_matrix,f1_score,accuracy_score"
   ]
  },
  {
   "cell_type": "code",
   "execution_count": 2,
   "id": "1acae80d",
   "metadata": {},
   "outputs": [
    {
     "data": {
      "text/html": [
       "<div>\n",
       "<style scoped>\n",
       "    .dataframe tbody tr th:only-of-type {\n",
       "        vertical-align: middle;\n",
       "    }\n",
       "\n",
       "    .dataframe tbody tr th {\n",
       "        vertical-align: top;\n",
       "    }\n",
       "\n",
       "    .dataframe thead th {\n",
       "        text-align: right;\n",
       "    }\n",
       "</style>\n",
       "<table border=\"1\" class=\"dataframe\">\n",
       "  <thead>\n",
       "    <tr style=\"text-align: right;\">\n",
       "      <th></th>\n",
       "      <th>x1</th>\n",
       "      <th>x2</th>\n",
       "      <th>y</th>\n",
       "    </tr>\n",
       "  </thead>\n",
       "  <tbody>\n",
       "    <tr>\n",
       "      <th>0</th>\n",
       "      <td>-119.366669</td>\n",
       "      <td>115.000000</td>\n",
       "      <td>1</td>\n",
       "    </tr>\n",
       "    <tr>\n",
       "      <th>1</th>\n",
       "      <td>-101.108045</td>\n",
       "      <td>97.777159</td>\n",
       "      <td>1</td>\n",
       "    </tr>\n",
       "    <tr>\n",
       "      <th>2</th>\n",
       "      <td>-130.278658</td>\n",
       "      <td>106.767654</td>\n",
       "      <td>1</td>\n",
       "    </tr>\n",
       "    <tr>\n",
       "      <th>3</th>\n",
       "      <td>-114.703415</td>\n",
       "      <td>101.195477</td>\n",
       "      <td>1</td>\n",
       "    </tr>\n",
       "    <tr>\n",
       "      <th>4</th>\n",
       "      <td>-119.366669</td>\n",
       "      <td>115.000000</td>\n",
       "      <td>1</td>\n",
       "    </tr>\n",
       "  </tbody>\n",
       "</table>\n",
       "</div>"
      ],
      "text/plain": [
       "           x1          x2  y\n",
       "0 -119.366669  115.000000  1\n",
       "1 -101.108045   97.777159  1\n",
       "2 -130.278658  106.767654  1\n",
       "3 -114.703415  101.195477  1\n",
       "4 -119.366669  115.000000  1"
      ]
     },
     "execution_count": 2,
     "metadata": {},
     "output_type": "execute_result"
    }
   ],
   "source": [
    "data = pd.read_csv('data.csv')\n",
    "data.head()"
   ]
  },
  {
   "cell_type": "code",
   "execution_count": 3,
   "id": "c775ad4a",
   "metadata": {},
   "outputs": [
    {
     "data": {
      "text/html": [
       "<div>\n",
       "<style scoped>\n",
       "    .dataframe tbody tr th:only-of-type {\n",
       "        vertical-align: middle;\n",
       "    }\n",
       "\n",
       "    .dataframe tbody tr th {\n",
       "        vertical-align: top;\n",
       "    }\n",
       "\n",
       "    .dataframe thead th {\n",
       "        text-align: right;\n",
       "    }\n",
       "</style>\n",
       "<table border=\"1\" class=\"dataframe\">\n",
       "  <thead>\n",
       "    <tr style=\"text-align: right;\">\n",
       "      <th></th>\n",
       "      <th>x1</th>\n",
       "      <th>x2</th>\n",
       "      <th>y</th>\n",
       "    </tr>\n",
       "  </thead>\n",
       "  <tbody>\n",
       "    <tr>\n",
       "      <th>count</th>\n",
       "      <td>2222.000000</td>\n",
       "      <td>2.224000e+03</td>\n",
       "      <td>2227.000000</td>\n",
       "    </tr>\n",
       "    <tr>\n",
       "      <th>mean</th>\n",
       "      <td>-4.818766</td>\n",
       "      <td>8.947626e+04</td>\n",
       "      <td>0.442299</td>\n",
       "    </tr>\n",
       "    <tr>\n",
       "      <th>std</th>\n",
       "      <td>74.939909</td>\n",
       "      <td>2.983323e+06</td>\n",
       "      <td>0.496771</td>\n",
       "    </tr>\n",
       "    <tr>\n",
       "      <th>min</th>\n",
       "      <td>-134.369160</td>\n",
       "      <td>-1.348761e+02</td>\n",
       "      <td>0.000000</td>\n",
       "    </tr>\n",
       "    <tr>\n",
       "      <th>25%</th>\n",
       "      <td>-71.757030</td>\n",
       "      <td>-8.012983e+01</td>\n",
       "      <td>0.000000</td>\n",
       "    </tr>\n",
       "    <tr>\n",
       "      <th>50%</th>\n",
       "      <td>-9.836555</td>\n",
       "      <td>-1.046151e+00</td>\n",
       "      <td>0.000000</td>\n",
       "    </tr>\n",
       "    <tr>\n",
       "      <th>75%</th>\n",
       "      <td>59.813962</td>\n",
       "      <td>6.389086e+01</td>\n",
       "      <td>1.000000</td>\n",
       "    </tr>\n",
       "    <tr>\n",
       "      <th>max</th>\n",
       "      <td>134.508687</td>\n",
       "      <td>1.000000e+08</td>\n",
       "      <td>1.000000</td>\n",
       "    </tr>\n",
       "  </tbody>\n",
       "</table>\n",
       "</div>"
      ],
      "text/plain": [
       "                x1            x2            y\n",
       "count  2222.000000  2.224000e+03  2227.000000\n",
       "mean     -4.818766  8.947626e+04     0.442299\n",
       "std      74.939909  2.983323e+06     0.496771\n",
       "min    -134.369160 -1.348761e+02     0.000000\n",
       "25%     -71.757030 -8.012983e+01     0.000000\n",
       "50%      -9.836555 -1.046151e+00     0.000000\n",
       "75%      59.813962  6.389086e+01     1.000000\n",
       "max     134.508687  1.000000e+08     1.000000"
      ]
     },
     "execution_count": 3,
     "metadata": {},
     "output_type": "execute_result"
    }
   ],
   "source": [
    "data.describe()"
   ]
  },
  {
   "cell_type": "code",
   "execution_count": 4,
   "id": "301946c3",
   "metadata": {},
   "outputs": [
    {
     "name": "stdout",
     "output_type": "stream",
     "text": [
      "<class 'pandas.core.frame.DataFrame'>\n",
      "RangeIndex: 2227 entries, 0 to 2226\n",
      "Data columns (total 3 columns):\n",
      " #   Column  Non-Null Count  Dtype  \n",
      "---  ------  --------------  -----  \n",
      " 0   x1      2222 non-null   float64\n",
      " 1   x2      2224 non-null   float64\n",
      " 2   y       2227 non-null   int64  \n",
      "dtypes: float64(2), int64(1)\n",
      "memory usage: 52.3 KB\n"
     ]
    }
   ],
   "source": [
    "data.info()"
   ]
  },
  {
   "cell_type": "code",
   "execution_count": 6,
   "id": "0e01dea3",
   "metadata": {},
   "outputs": [
    {
     "data": {
      "text/plain": [
       "x1    5\n",
       "x2    3\n",
       "y     0\n",
       "dtype: int64"
      ]
     },
     "execution_count": 6,
     "metadata": {},
     "output_type": "execute_result"
    }
   ],
   "source": [
    "data.isnull().sum()"
   ]
  },
  {
   "cell_type": "code",
   "execution_count": 8,
   "id": "5f8a1e26",
   "metadata": {},
   "outputs": [
    {
     "name": "stdout",
     "output_type": "stream",
     "text": [
      "<class 'pandas.core.frame.DataFrame'>\n",
      "Int64Index: 2219 entries, 0 to 2226\n",
      "Data columns (total 3 columns):\n",
      " #   Column  Non-Null Count  Dtype  \n",
      "---  ------  --------------  -----  \n",
      " 0   x1      2219 non-null   float64\n",
      " 1   x2      2219 non-null   float64\n",
      " 2   y       2219 non-null   int64  \n",
      "dtypes: float64(2), int64(1)\n",
      "memory usage: 69.3 KB\n"
     ]
    }
   ],
   "source": [
    "# dropping null values\n",
    "data = data.dropna()\n",
    "data.info"
   ]
  },
  {
   "cell_type": "code",
   "execution_count": 34,
   "id": "3d9d5b98",
   "metadata": {},
   "outputs": [
    {
     "data": {
      "text/plain": [
       "0    1238\n",
       "1     981\n",
       "Name: y, dtype: int64"
      ]
     },
     "execution_count": 34,
     "metadata": {},
     "output_type": "execute_result"
    }
   ],
   "source": [
    "data['y'].value_counts()"
   ]
  },
  {
   "cell_type": "code",
   "execution_count": 35,
   "id": "cbb04d3e",
   "metadata": {},
   "outputs": [
    {
     "name": "stderr",
     "output_type": "stream",
     "text": [
      "C:\\Anaconda\\lib\\site-packages\\seaborn\\_decorators.py:36: FutureWarning: Pass the following variable as a keyword arg: x. From version 0.12, the only valid positional argument will be `data`, and passing other arguments without an explicit keyword will result in an error or misinterpretation.\n",
      "  warnings.warn(\n"
     ]
    },
    {
     "data": {
      "image/png": "[encoded data removed]",
      "text/plain": [
       "<Figure size 432x288 with 1 Axes>"
      ]
     },
     "metadata": {
      "needs_background": "light"
     },
     "output_type": "display_data"
    }
   ],
   "source": [
    "# Vizulalizing Class distribution\n",
    "g = sns.countplot(data['y'])\n",
    "g.set_xticklabels(['0','1'])\n",
    "plt.show()"
   ]
  },
  {
   "cell_type": "code",
   "execution_count": 15,
   "id": "f920b02a",
   "metadata": {},
   "outputs": [],
   "source": [
    "# splitting training and testing test\n",
    "X = data.iloc[:,:2]\n",
    "y = data['y']\n",
    "X_train, X_test, y_train, y_test = train_test_split(X, y, test_size=0.4, random_state=0)"
   ]
  },
  {
   "cell_type": "code",
   "execution_count": null,
   "id": "07b1d21d",
   "metadata": {},
   "outputs": [],
   "source": []
  },
  {
   "cell_type": "markdown",
   "id": "5846d000",
   "metadata": {},
   "source": [
    "## Logistic Regression"
   ]
  },
  {
   "cell_type": "code",
   "execution_count": 53,
   "id": "bf740d92",
   "metadata": {},
   "outputs": [],
   "source": [
    "model1 = LogisticRegression(penalty = 'l2').fit(X_train,y_train)"
   ]
  },
  {
   "cell_type": "code",
   "execution_count": 54,
   "id": "0c0b58f8",
   "metadata": {},
   "outputs": [
    {
     "name": "stdout",
     "output_type": "stream",
     "text": [
      "Testing accuracy  : 0.7488738738738738\n",
      "F1 Score : 0.6039076376554174\n",
      "Logistic Regression Confusion matrix :\n",
      "\n",
      " [[495   2]\n",
      " [221 170]]\n"
     ]
    }
   ],
   "source": [
    "lr_pred = model1.predict(X_test)\n",
    "lr_accu_test = model1.score(X_test,y_test)\n",
    "lr_f1 = f1_score(y_test,lr_pred)\n",
    "\n",
    "print(\"Testing accuracy  :\",lr_accu_test)\n",
    "print(\"F1 Score :\",lr_f1)\n",
    "print(\"Logistic Regression Confusion matrix :\\n\\n\", confusion_matrix(y_test,lr_pred))"
   ]
  },
  {
   "cell_type": "markdown",
   "id": "fbfe890d",
   "metadata": {},
   "source": [
    "## Support Vector Machine"
   ]
  },
  {
   "cell_type": "code",
   "execution_count": 37,
   "id": "3f37d078",
   "metadata": {},
   "outputs": [],
   "source": [
    "#kernal = linear\n",
    "svc = svm.SVC(kernel='linear').fit(X_train,y_train)"
   ]
  },
  {
   "cell_type": "code",
   "execution_count": 38,
   "id": "8a5d38ab",
   "metadata": {},
   "outputs": [
    {
     "name": "stdout",
     "output_type": "stream",
     "text": [
      "Testing accuracy  : 0.7398648648648649\n",
      "F1 Score : 0.5837837837837838\n",
      "Logistic Regression Confusion matrix :\n",
      "\n",
      " [[495   2]\n",
      " [229 162]]\n"
     ]
    }
   ],
   "source": [
    "svc_pred = svc.predict(X_test)\n",
    "svc_accu_test = svc.score(X_test,y_test)\n",
    "svc_f1 = f1_score(y_test,svc_pred)\n",
    "\n",
    "print(\"Testing accuracy  :\",svc_accu_test)\n",
    "print(\"F1 Score :\",svc_f1)\n",
    "print(\"Support Vector Linear Confusion matrix :\\n\\n\", confusion_matrix(y_test,svc_pred))"
   ]
  },
  {
   "cell_type": "code",
   "execution_count": 56,
   "id": "b6e385ba",
   "metadata": {},
   "outputs": [],
   "source": [
    "#kernal = rbl\n",
    "svcr = svm.SVC(kernel='rbf',C=1).fit(X_train,y_train)"
   ]
  },
  {
   "cell_type": "code",
   "execution_count": 57,
   "id": "e1c090ca",
   "metadata": {},
   "outputs": [
    {
     "name": "stdout",
     "output_type": "stream",
     "text": [
      "Testing accuracy  : 0.9594594594594594\n",
      "F1 Score : 0.9539641943734015\n",
      "Support Vector RBL Confusion matrix :\n",
      "\n",
      " [[479  18]\n",
      " [ 18 373]]\n"
     ]
    }
   ],
   "source": [
    "svcr_pred = svcr.predict(X_test)\n",
    "svcr_accu_test = svcr.score(X_test,y_test)\n",
    "svcr_f1 = f1_score(y_test,svcr_pred)\n",
    "\n",
    "print(\"Testing accuracy  :\",svcr_accu_test)\n",
    "print(\"F1 Score :\",svcr_f1)\n",
    "print(\"Support Vector RBL Confusion matrix :\\n\\n\", confusion_matrix(y_test,svcr_pred))"
   ]
  },
  {
   "cell_type": "markdown",
   "id": "fecd7197",
   "metadata": {},
   "source": [
    "## Decision Tree Classifier"
   ]
  },
  {
   "cell_type": "code",
   "execution_count": 45,
   "id": "1e9c227e",
   "metadata": {},
   "outputs": [
    {
     "name": "stdout",
     "output_type": "stream",
     "text": [
      "Testing Accuracy : 0.6058558558558559\n",
      "F1 Score:  0.46153846153846156\n",
      "Decision Tree Confusion matrix :\n",
      "\n",
      " [[388 109]\n",
      " [241 150]]\n"
     ]
    }
   ],
   "source": [
    "dt = DecisionTreeClassifier(criterion='entropy',max_depth=1)\n",
    "dt.fit(X_train,y_train)\n",
    "dt_pred = dt.predict(X_test)\n",
    "dt_testing = dt.score(X_test,y_test)\n",
    "# dt_precision = precision_score(y_test,dt_pred)\n",
    "dt_f1 = f1_score(y_test,dt_pred)\n",
    "\n",
    "print(\"Testing Accuracy :\",dt_testing )\n",
    "print(\"F1 Score: \",dt_f1 )\n",
    "print('Decision Tree Confusion matrix :\\n\\n',confusion_matrix(y_test, dt_pred) )"
   ]
  },
  {
   "cell_type": "markdown",
   "id": "abed8f83",
   "metadata": {},
   "source": [
    "## KNN Classifier"
   ]
  },
  {
   "cell_type": "code",
   "execution_count": 47,
   "id": "a383edf7",
   "metadata": {},
   "outputs": [
    {
     "data": {
      "text/plain": [
       "KNeighborsClassifier(n_neighbors=3)"
      ]
     },
     "execution_count": 47,
     "metadata": {},
     "output_type": "execute_result"
    }
   ],
   "source": [
    "model = KNeighborsClassifier(n_neighbors=3)\n",
    "model.fit(X_train,y_train)"
   ]
  },
  {
   "cell_type": "code",
   "execution_count": 49,
   "id": "e309a3d6",
   "metadata": {},
   "outputs": [
    {
     "name": "stdout",
     "output_type": "stream",
     "text": [
      "Testing accuracy  : 0.956081081081081\n",
      "F1 Score : 0.9504447268106735\n",
      "KNN Confusion matrix :\n",
      "\n",
      " [[475  22]\n",
      " [ 17 374]]\n"
     ]
    }
   ],
   "source": [
    "knn_pred = model.predict(X_test)\n",
    "knn_accu_test = model.score(X_test,y_test)\n",
    "knn_f1 = f1_score(y_test,knn_pred)\n",
    "\n",
    "print(\"Testing accuracy  :\",knn_accu_test)\n",
    "print(\"F1 Score :\",knn_f1)\n",
    "print(\"KNN Confusion matrix :\\n\\n\", confusion_matrix(y_test,knn_pred))"
   ]
  },
  {
   "cell_type": "markdown",
   "id": "b0d4d063",
   "metadata": {},
   "source": [
    "## Comparison"
   ]
  },
  {
   "cell_type": "code",
   "execution_count": 58,
   "id": "2f945e78",
   "metadata": {},
   "outputs": [
    {
     "data": {
      "text/html": [
       "<div>\n",
       "<style scoped>\n",
       "    .dataframe tbody tr th:only-of-type {\n",
       "        vertical-align: middle;\n",
       "    }\n",
       "\n",
       "    .dataframe tbody tr th {\n",
       "        vertical-align: top;\n",
       "    }\n",
       "\n",
       "    .dataframe thead th {\n",
       "        text-align: right;\n",
       "    }\n",
       "</style>\n",
       "<table border=\"1\" class=\"dataframe\">\n",
       "  <thead>\n",
       "    <tr style=\"text-align: right;\">\n",
       "      <th></th>\n",
       "      <th>Testing Accuracy</th>\n",
       "      <th>F1 Score</th>\n",
       "    </tr>\n",
       "  </thead>\n",
       "  <tbody>\n",
       "    <tr>\n",
       "      <th>Logistic Regression</th>\n",
       "      <td>0.748874</td>\n",
       "      <td>0.603908</td>\n",
       "    </tr>\n",
       "    <tr>\n",
       "      <th>Support Vector Linear</th>\n",
       "      <td>0.739865</td>\n",
       "      <td>0.583784</td>\n",
       "    </tr>\n",
       "    <tr>\n",
       "      <th>Support Vector RBL</th>\n",
       "      <td>0.959459</td>\n",
       "      <td>0.953964</td>\n",
       "    </tr>\n",
       "    <tr>\n",
       "      <th>DecisionTrees</th>\n",
       "      <td>0.605856</td>\n",
       "      <td>0.461538</td>\n",
       "    </tr>\n",
       "    <tr>\n",
       "      <th>KNN</th>\n",
       "      <td>0.956081</td>\n",
       "      <td>0.950445</td>\n",
       "    </tr>\n",
       "  </tbody>\n",
       "</table>\n",
       "</div>"
      ],
      "text/plain": [
       "                       Testing Accuracy  F1 Score\n",
       "Logistic Regression            0.748874  0.603908\n",
       "Support Vector Linear          0.739865  0.583784\n",
       "Support Vector RBL             0.959459  0.953964\n",
       "DecisionTrees                  0.605856  0.461538\n",
       "KNN                            0.956081  0.950445"
      ]
     },
     "execution_count": 58,
     "metadata": {},
     "output_type": "execute_result"
    }
   ],
   "source": [
    "df_compare = pd.DataFrame([[lr_accu_test,lr_f1],\n",
    "                           [svc_accu_test,svc_f1],\n",
    "                           [svcr_accu_test,svcr_f1],\n",
    "                           [dt_testing,dt_f1],\n",
    "                           [knn_accu_test,knn_f1]],\n",
    "    columns=['Testing Accuracy','F1 Score'],\n",
    "                       index=['Logistic Regression','Support Vector Linear',\n",
    "                              'Support Vector RBL','DecisionTrees',\n",
    "                              'KNN'])\n",
    "df_compare"
   ]
  },
  {
   "cell_type": "code",
   "execution_count": 66,
   "id": "54dfab44",
   "metadata": {},
   "outputs": [
    {
     "data": {
      "text/plain": [
       "Text(0, 0.5, 'Sepal width')"
      ]
     },
     "execution_count": 66,
     "metadata": {},
     "output_type": "execute_result"
    },
    {
     "data": {
      "image/png": "[encoded data removed]",
      "text/plain": [
       "<Figure size 1080x360 with 1 Axes>"
      ]
     },
     "metadata": {
      "needs_background": "light"
     },
     "output_type": "display_data"
    }
   ],
   "source": [
    "plt.figure(figsize=(15, 5))\n",
    "\n",
    "# plt.subplot(1,2,1)\n",
    "plt.scatter(data.iloc[:, 0], data.iloc[:, 1], c=data.iloc[:,2])\n",
    "plt.xlabel('Sepal length')\n",
    "plt.ylabel('Sepal width')\n"
   ]
  },
  {
   "cell_type": "markdown",
   "id": "efe8cdbc",
   "metadata": {},
   "source": [
    "### From the results of the model evaluation we can infer that KNN and Support Vector RBL models have outperformed other models with a good margin. RBF Kernel has the advantages of K-NN  and therfore its similarity to K-Nearest Neighborhood Algorithm.\n",
    "### These models gave good results because the data is in a way that cannot be linearly separable. Therefore RBL kernal could give best results against the linear kernal of SVM.\n"
   ]
  },
  {
   "cell_type": "code",
   "execution_count": null,
   "id": "24fe43e1",
   "metadata": {},
   "outputs": [],
   "source": []
  }
 ],
 "metadata": {
  "kernelspec": {
   "display_name": "Python 3",
   "language": "python",
   "name": "python3"
  },
  "language_info": {
   "codemirror_mode": {
    "name": "ipython",
    "version": 3
   },
   "file_extension": ".py",
   "mimetype": "text/x-python",
   "name": "python",
   "nbconvert_exporter": "python",
   "pygments_lexer": "ipython3",
   "version": "3.8.8"
  }
 },
 "nbformat": 4,
 "nbformat_minor": 5
}
